{
 "cells": [
  {
   "cell_type": "code",
   "execution_count": 1,
   "id": "e5543a41-bf08-416b-b67e-e66c64159e6d",
   "metadata": {
    "scrolled": true
   },
   "outputs": [
    {
     "name": "stderr",
     "output_type": "stream",
     "text": [
      "/home/jeongbinpark/miniconda3/envs/scvi/lib/python3.9/site-packages/scanpy/preprocessing/_highly_variable_genes.py:75: UserWarning: `flavor='seurat_v3'` expects raw count data, but non-integers were found.\n",
      "  warnings.warn(\n",
      "/home/jeongbinpark/miniconda3/envs/scvi/lib/python3.9/site-packages/numba/np/ufunc/parallel.py:371: NumbaWarning: The TBB threading layer requires TBB version 2021 update 6 or later i.e., TBB_INTERFACE_VERSION >= 12060. Found TBB_INTERFACE_VERSION = 12050. The TBB threading layer is disabled.\n",
      "  warnings.warn(problem)\n",
      "An NVIDIA GPU may be present on this machine, but a CUDA-enabled jaxlib is not installed. Falling back to cpu.\n",
      "/home/jeongbinpark/miniconda3/envs/scvi/lib/python3.9/site-packages/scvi/data/fields/_base_field.py:64: UserWarning: adata.layers[counts] does not contain unnormalized count data. Are you sure this is what you want?\n",
      "  self.validate_field(adata)\n",
      "Trainer will use only 1 of 2 GPUs because it is running inside an interactive / notebook environment. You may try to set `Trainer(devices=2)` but please note that multi-GPU inside interactive / notebook environments is considered experimental and unstable. Your mileage may vary.\n",
      "GPU available: True (cuda), used: True\n",
      "TPU available: False, using: 0 TPU cores\n",
      "HPU available: False, using: 0 HPUs\n",
      "You are using a CUDA device ('NVIDIA GeForce RTX 4090') that has Tensor Cores. To properly utilize them, you should set `torch.set_float32_matmul_precision('medium' | 'high')` which will trade-off precision for performance. For more details, read https://pytorch.org/docs/stable/generated/torch.set_float32_matmul_precision.html#torch.set_float32_matmul_precision\n",
      "LOCAL_RANK: 0 - CUDA_VISIBLE_DEVICES: [0,1]\n",
      "/home/jeongbinpark/miniconda3/envs/scvi/lib/python3.9/site-packages/lightning/pytorch/trainer/connectors/data_connector.py:425: The 'train_dataloader' does not have many workers which may be a bottleneck. Consider increasing the value of the `num_workers` argument` to `num_workers=79` in the `DataLoader` to improve performance.\n"
     ]
    },
    {
     "name": "stdout",
     "output_type": "stream",
     "text": [
      "Epoch 1/50:   0%|                                        | 0/50 [00:00<?, ?it/s]"
     ]
    },
    {
     "name": "stderr",
     "output_type": "stream",
     "text": [
      "/home/jeongbinpark/miniconda3/envs/scvi/lib/python3.9/site-packages/scvi/module/_vae.py:460: UserWarning: The value argument must be within the support of the distribution\n",
      "  reconst_loss = -generative_outputs[\"px\"].log_prob(x).sum(-1)\n",
      "/home/jeongbinpark/miniconda3/envs/scvi/lib/python3.9/site-packages/scvi/module/_vae.py:460: UserWarning: The value argument must be within the support of the distribution\n",
      "  reconst_loss = -generative_outputs[\"px\"].log_prob(x).sum(-1)\n"
     ]
    },
    {
     "name": "stdout",
     "output_type": "stream",
     "text": [
      "Epoch 2/50:   2%| | 1/50 [00:03<02:42,  3.31s/it, v_num=1, train_loss_step=266, "
     ]
    },
    {
     "name": "stderr",
     "output_type": "stream",
     "text": [
      "/home/jeongbinpark/miniconda3/envs/scvi/lib/python3.9/site-packages/scvi/module/_vae.py:460: UserWarning: The value argument must be within the support of the distribution\n",
      "  reconst_loss = -generative_outputs[\"px\"].log_prob(x).sum(-1)\n",
      "/home/jeongbinpark/miniconda3/envs/scvi/lib/python3.9/site-packages/scvi/module/_vae.py:460: UserWarning: The value argument must be within the support of the distribution\n",
      "  reconst_loss = -generative_outputs[\"px\"].log_prob(x).sum(-1)\n"
     ]
    },
    {
     "name": "stdout",
     "output_type": "stream",
     "text": [
      "Epoch 3/50:   4%| | 2/50 [00:06<02:24,  3.01s/it, v_num=1, train_loss_step=315, "
     ]
    },
    {
     "name": "stderr",
     "output_type": "stream",
     "text": [
      "/home/jeongbinpark/miniconda3/envs/scvi/lib/python3.9/site-packages/scvi/module/_vae.py:460: UserWarning: The value argument must be within the support of the distribution\n",
      "  reconst_loss = -generative_outputs[\"px\"].log_prob(x).sum(-1)\n",
      "/home/jeongbinpark/miniconda3/envs/scvi/lib/python3.9/site-packages/scvi/module/_vae.py:460: UserWarning: The value argument must be within the support of the distribution\n",
      "  reconst_loss = -generative_outputs[\"px\"].log_prob(x).sum(-1)\n"
     ]
    },
    {
     "name": "stdout",
     "output_type": "stream",
     "text": [
      "Epoch 4/50:   6%| | 3/50 [00:08<02:16,  2.91s/it, v_num=1, train_loss_step=344, "
     ]
    },
    {
     "name": "stderr",
     "output_type": "stream",
     "text": [
      "/home/jeongbinpark/miniconda3/envs/scvi/lib/python3.9/site-packages/scvi/module/_vae.py:460: UserWarning: The value argument must be within the support of the distribution\n",
      "  reconst_loss = -generative_outputs[\"px\"].log_prob(x).sum(-1)\n",
      "/home/jeongbinpark/miniconda3/envs/scvi/lib/python3.9/site-packages/scvi/module/_vae.py:460: UserWarning: The value argument must be within the support of the distribution\n",
      "  reconst_loss = -generative_outputs[\"px\"].log_prob(x).sum(-1)\n"
     ]
    },
    {
     "name": "stdout",
     "output_type": "stream",
     "text": [
      "Epoch 5/50:   8%| | 4/50 [00:11<02:11,  2.87s/it, v_num=1, train_loss_step=450, "
     ]
    },
    {
     "name": "stderr",
     "output_type": "stream",
     "text": [
      "/home/jeongbinpark/miniconda3/envs/scvi/lib/python3.9/site-packages/scvi/module/_vae.py:460: UserWarning: The value argument must be within the support of the distribution\n",
      "  reconst_loss = -generative_outputs[\"px\"].log_prob(x).sum(-1)\n",
      "/home/jeongbinpark/miniconda3/envs/scvi/lib/python3.9/site-packages/scvi/module/_vae.py:460: UserWarning: The value argument must be within the support of the distribution\n",
      "  reconst_loss = -generative_outputs[\"px\"].log_prob(x).sum(-1)\n"
     ]
    },
    {
     "name": "stdout",
     "output_type": "stream",
     "text": [
      "Epoch 6/50:  10%| | 5/50 [00:14<02:08,  2.86s/it, v_num=1, train_loss_step=293, "
     ]
    },
    {
     "name": "stderr",
     "output_type": "stream",
     "text": [
      "/home/jeongbinpark/miniconda3/envs/scvi/lib/python3.9/site-packages/scvi/module/_vae.py:460: UserWarning: The value argument must be within the support of the distribution\n",
      "  reconst_loss = -generative_outputs[\"px\"].log_prob(x).sum(-1)\n",
      "/home/jeongbinpark/miniconda3/envs/scvi/lib/python3.9/site-packages/scvi/module/_vae.py:460: UserWarning: The value argument must be within the support of the distribution\n",
      "  reconst_loss = -generative_outputs[\"px\"].log_prob(x).sum(-1)\n"
     ]
    },
    {
     "name": "stdout",
     "output_type": "stream",
     "text": [
      "Epoch 7/50:  12%| | 6/50 [00:17<02:04,  2.83s/it, v_num=1, train_loss_step=308, "
     ]
    },
    {
     "name": "stderr",
     "output_type": "stream",
     "text": [
      "/home/jeongbinpark/miniconda3/envs/scvi/lib/python3.9/site-packages/scvi/module/_vae.py:460: UserWarning: The value argument must be within the support of the distribution\n",
      "  reconst_loss = -generative_outputs[\"px\"].log_prob(x).sum(-1)\n",
      "/home/jeongbinpark/miniconda3/envs/scvi/lib/python3.9/site-packages/scvi/module/_vae.py:460: UserWarning: The value argument must be within the support of the distribution\n",
      "  reconst_loss = -generative_outputs[\"px\"].log_prob(x).sum(-1)\n"
     ]
    },
    {
     "name": "stdout",
     "output_type": "stream",
     "text": [
      "Epoch 8/50:  14%|▏| 7/50 [00:20<02:01,  2.83s/it, v_num=1, train_loss_step=290, "
     ]
    },
    {
     "name": "stderr",
     "output_type": "stream",
     "text": [
      "/home/jeongbinpark/miniconda3/envs/scvi/lib/python3.9/site-packages/scvi/module/_vae.py:460: UserWarning: The value argument must be within the support of the distribution\n",
      "  reconst_loss = -generative_outputs[\"px\"].log_prob(x).sum(-1)\n",
      "/home/jeongbinpark/miniconda3/envs/scvi/lib/python3.9/site-packages/scvi/module/_vae.py:460: UserWarning: The value argument must be within the support of the distribution\n",
      "  reconst_loss = -generative_outputs[\"px\"].log_prob(x).sum(-1)\n"
     ]
    },
    {
     "name": "stdout",
     "output_type": "stream",
     "text": [
      "Epoch 9/50:  16%|▏| 8/50 [00:22<01:58,  2.83s/it, v_num=1, train_loss_step=394, "
     ]
    },
    {
     "name": "stderr",
     "output_type": "stream",
     "text": [
      "/home/jeongbinpark/miniconda3/envs/scvi/lib/python3.9/site-packages/scvi/module/_vae.py:460: UserWarning: The value argument must be within the support of the distribution\n",
      "  reconst_loss = -generative_outputs[\"px\"].log_prob(x).sum(-1)\n",
      "/home/jeongbinpark/miniconda3/envs/scvi/lib/python3.9/site-packages/scvi/module/_vae.py:460: UserWarning: The value argument must be within the support of the distribution\n",
      "  reconst_loss = -generative_outputs[\"px\"].log_prob(x).sum(-1)\n"
     ]
    },
    {
     "name": "stdout",
     "output_type": "stream",
     "text": [
      "Epoch 10/50:  18%|▏| 9/50 [00:25<01:56,  2.85s/it, v_num=1, train_loss_step=288,"
     ]
    },
    {
     "name": "stderr",
     "output_type": "stream",
     "text": [
      "/home/jeongbinpark/miniconda3/envs/scvi/lib/python3.9/site-packages/scvi/module/_vae.py:460: UserWarning: The value argument must be within the support of the distribution\n",
      "  reconst_loss = -generative_outputs[\"px\"].log_prob(x).sum(-1)\n",
      "/home/jeongbinpark/miniconda3/envs/scvi/lib/python3.9/site-packages/scvi/module/_vae.py:460: UserWarning: The value argument must be within the support of the distribution\n",
      "  reconst_loss = -generative_outputs[\"px\"].log_prob(x).sum(-1)\n"
     ]
    },
    {
     "name": "stdout",
     "output_type": "stream",
     "text": [
      "Epoch 11/50:  20%|▏| 10/50 [00:28<01:53,  2.85s/it, v_num=1, train_loss_step=223"
     ]
    },
    {
     "name": "stderr",
     "output_type": "stream",
     "text": [
      "/home/jeongbinpark/miniconda3/envs/scvi/lib/python3.9/site-packages/scvi/module/_vae.py:460: UserWarning: The value argument must be within the support of the distribution\n",
      "  reconst_loss = -generative_outputs[\"px\"].log_prob(x).sum(-1)\n",
      "/home/jeongbinpark/miniconda3/envs/scvi/lib/python3.9/site-packages/scvi/module/_vae.py:460: UserWarning: The value argument must be within the support of the distribution\n",
      "  reconst_loss = -generative_outputs[\"px\"].log_prob(x).sum(-1)\n"
     ]
    },
    {
     "name": "stdout",
     "output_type": "stream",
     "text": [
      "Epoch 12/50:  22%|▏| 11/50 [00:31<01:51,  2.85s/it, v_num=1, train_loss_step=226"
     ]
    },
    {
     "name": "stderr",
     "output_type": "stream",
     "text": [
      "/home/jeongbinpark/miniconda3/envs/scvi/lib/python3.9/site-packages/scvi/module/_vae.py:460: UserWarning: The value argument must be within the support of the distribution\n",
      "  reconst_loss = -generative_outputs[\"px\"].log_prob(x).sum(-1)\n",
      "/home/jeongbinpark/miniconda3/envs/scvi/lib/python3.9/site-packages/scvi/module/_vae.py:460: UserWarning: The value argument must be within the support of the distribution\n",
      "  reconst_loss = -generative_outputs[\"px\"].log_prob(x).sum(-1)\n"
     ]
    },
    {
     "name": "stdout",
     "output_type": "stream",
     "text": [
      "Epoch 13/50:  24%|▏| 12/50 [00:34<01:48,  2.86s/it, v_num=1, train_loss_step=283"
     ]
    },
    {
     "name": "stderr",
     "output_type": "stream",
     "text": [
      "/home/jeongbinpark/miniconda3/envs/scvi/lib/python3.9/site-packages/scvi/module/_vae.py:460: UserWarning: The value argument must be within the support of the distribution\n",
      "  reconst_loss = -generative_outputs[\"px\"].log_prob(x).sum(-1)\n",
      "/home/jeongbinpark/miniconda3/envs/scvi/lib/python3.9/site-packages/scvi/module/_vae.py:460: UserWarning: The value argument must be within the support of the distribution\n",
      "  reconst_loss = -generative_outputs[\"px\"].log_prob(x).sum(-1)\n"
     ]
    },
    {
     "name": "stdout",
     "output_type": "stream",
     "text": [
      "Epoch 14/50:  26%|▎| 13/50 [00:37<01:45,  2.84s/it, v_num=1, train_loss_step=232"
     ]
    },
    {
     "name": "stderr",
     "output_type": "stream",
     "text": [
      "/home/jeongbinpark/miniconda3/envs/scvi/lib/python3.9/site-packages/scvi/module/_vae.py:460: UserWarning: The value argument must be within the support of the distribution\n",
      "  reconst_loss = -generative_outputs[\"px\"].log_prob(x).sum(-1)\n",
      "/home/jeongbinpark/miniconda3/envs/scvi/lib/python3.9/site-packages/scvi/module/_vae.py:460: UserWarning: The value argument must be within the support of the distribution\n",
      "  reconst_loss = -generative_outputs[\"px\"].log_prob(x).sum(-1)\n"
     ]
    },
    {
     "name": "stdout",
     "output_type": "stream",
     "text": [
      "Epoch 15/50:  28%|▎| 14/50 [00:40<01:42,  2.85s/it, v_num=1, train_loss_step=341"
     ]
    },
    {
     "name": "stderr",
     "output_type": "stream",
     "text": [
      "/home/jeongbinpark/miniconda3/envs/scvi/lib/python3.9/site-packages/scvi/module/_vae.py:460: UserWarning: The value argument must be within the support of the distribution\n",
      "  reconst_loss = -generative_outputs[\"px\"].log_prob(x).sum(-1)\n",
      "/home/jeongbinpark/miniconda3/envs/scvi/lib/python3.9/site-packages/scvi/module/_vae.py:460: UserWarning: The value argument must be within the support of the distribution\n",
      "  reconst_loss = -generative_outputs[\"px\"].log_prob(x).sum(-1)\n"
     ]
    },
    {
     "name": "stdout",
     "output_type": "stream",
     "text": [
      "Epoch 16/50:  30%|▎| 15/50 [00:42<01:39,  2.84s/it, v_num=1, train_loss_step=223"
     ]
    },
    {
     "name": "stderr",
     "output_type": "stream",
     "text": [
      "/home/jeongbinpark/miniconda3/envs/scvi/lib/python3.9/site-packages/scvi/module/_vae.py:460: UserWarning: The value argument must be within the support of the distribution\n",
      "  reconst_loss = -generative_outputs[\"px\"].log_prob(x).sum(-1)\n",
      "/home/jeongbinpark/miniconda3/envs/scvi/lib/python3.9/site-packages/scvi/module/_vae.py:460: UserWarning: The value argument must be within the support of the distribution\n",
      "  reconst_loss = -generative_outputs[\"px\"].log_prob(x).sum(-1)\n"
     ]
    },
    {
     "name": "stdout",
     "output_type": "stream",
     "text": [
      "Epoch 17/50:  32%|▎| 16/50 [00:45<01:36,  2.84s/it, v_num=1, train_loss_step=224"
     ]
    },
    {
     "name": "stderr",
     "output_type": "stream",
     "text": [
      "/home/jeongbinpark/miniconda3/envs/scvi/lib/python3.9/site-packages/scvi/module/_vae.py:460: UserWarning: The value argument must be within the support of the distribution\n",
      "  reconst_loss = -generative_outputs[\"px\"].log_prob(x).sum(-1)\n",
      "/home/jeongbinpark/miniconda3/envs/scvi/lib/python3.9/site-packages/scvi/module/_vae.py:460: UserWarning: The value argument must be within the support of the distribution\n",
      "  reconst_loss = -generative_outputs[\"px\"].log_prob(x).sum(-1)\n"
     ]
    },
    {
     "name": "stdout",
     "output_type": "stream",
     "text": [
      "Epoch 18/50:  34%|▎| 17/50 [00:48<01:33,  2.84s/it, v_num=1, train_loss_step=347"
     ]
    },
    {
     "name": "stderr",
     "output_type": "stream",
     "text": [
      "/home/jeongbinpark/miniconda3/envs/scvi/lib/python3.9/site-packages/scvi/module/_vae.py:460: UserWarning: The value argument must be within the support of the distribution\n",
      "  reconst_loss = -generative_outputs[\"px\"].log_prob(x).sum(-1)\n",
      "/home/jeongbinpark/miniconda3/envs/scvi/lib/python3.9/site-packages/scvi/module/_vae.py:460: UserWarning: The value argument must be within the support of the distribution\n",
      "  reconst_loss = -generative_outputs[\"px\"].log_prob(x).sum(-1)\n"
     ]
    },
    {
     "name": "stdout",
     "output_type": "stream",
     "text": [
      "Epoch 19/50:  36%|▎| 18/50 [00:51<01:30,  2.84s/it, v_num=1, train_loss_step=222"
     ]
    },
    {
     "name": "stderr",
     "output_type": "stream",
     "text": [
      "/home/jeongbinpark/miniconda3/envs/scvi/lib/python3.9/site-packages/scvi/module/_vae.py:460: UserWarning: The value argument must be within the support of the distribution\n",
      "  reconst_loss = -generative_outputs[\"px\"].log_prob(x).sum(-1)\n",
      "/home/jeongbinpark/miniconda3/envs/scvi/lib/python3.9/site-packages/scvi/module/_vae.py:460: UserWarning: The value argument must be within the support of the distribution\n",
      "  reconst_loss = -generative_outputs[\"px\"].log_prob(x).sum(-1)\n"
     ]
    },
    {
     "name": "stdout",
     "output_type": "stream",
     "text": [
      "Epoch 20/50:  38%|▍| 19/50 [00:54<01:28,  2.85s/it, v_num=1, train_loss_step=219"
     ]
    },
    {
     "name": "stderr",
     "output_type": "stream",
     "text": [
      "/home/jeongbinpark/miniconda3/envs/scvi/lib/python3.9/site-packages/scvi/module/_vae.py:460: UserWarning: The value argument must be within the support of the distribution\n",
      "  reconst_loss = -generative_outputs[\"px\"].log_prob(x).sum(-1)\n",
      "/home/jeongbinpark/miniconda3/envs/scvi/lib/python3.9/site-packages/scvi/module/_vae.py:460: UserWarning: The value argument must be within the support of the distribution\n",
      "  reconst_loss = -generative_outputs[\"px\"].log_prob(x).sum(-1)\n"
     ]
    },
    {
     "name": "stdout",
     "output_type": "stream",
     "text": [
      "Epoch 21/50:  40%|▍| 20/50 [00:57<01:25,  2.84s/it, v_num=1, train_loss_step=323"
     ]
    },
    {
     "name": "stderr",
     "output_type": "stream",
     "text": [
      "/home/jeongbinpark/miniconda3/envs/scvi/lib/python3.9/site-packages/scvi/module/_vae.py:460: UserWarning: The value argument must be within the support of the distribution\n",
      "  reconst_loss = -generative_outputs[\"px\"].log_prob(x).sum(-1)\n",
      "/home/jeongbinpark/miniconda3/envs/scvi/lib/python3.9/site-packages/scvi/module/_vae.py:460: UserWarning: The value argument must be within the support of the distribution\n",
      "  reconst_loss = -generative_outputs[\"px\"].log_prob(x).sum(-1)\n"
     ]
    },
    {
     "name": "stdout",
     "output_type": "stream",
     "text": [
      "Epoch 22/50:  42%|▍| 21/50 [00:59<01:22,  2.84s/it, v_num=1, train_loss_step=342"
     ]
    },
    {
     "name": "stderr",
     "output_type": "stream",
     "text": [
      "/home/jeongbinpark/miniconda3/envs/scvi/lib/python3.9/site-packages/scvi/module/_vae.py:460: UserWarning: The value argument must be within the support of the distribution\n",
      "  reconst_loss = -generative_outputs[\"px\"].log_prob(x).sum(-1)\n",
      "/home/jeongbinpark/miniconda3/envs/scvi/lib/python3.9/site-packages/scvi/module/_vae.py:460: UserWarning: The value argument must be within the support of the distribution\n",
      "  reconst_loss = -generative_outputs[\"px\"].log_prob(x).sum(-1)\n"
     ]
    },
    {
     "name": "stdout",
     "output_type": "stream",
     "text": [
      "Epoch 23/50:  44%|▍| 22/50 [01:02<01:19,  2.85s/it, v_num=1, train_loss_step=209"
     ]
    },
    {
     "name": "stderr",
     "output_type": "stream",
     "text": [
      "/home/jeongbinpark/miniconda3/envs/scvi/lib/python3.9/site-packages/scvi/module/_vae.py:460: UserWarning: The value argument must be within the support of the distribution\n",
      "  reconst_loss = -generative_outputs[\"px\"].log_prob(x).sum(-1)\n",
      "/home/jeongbinpark/miniconda3/envs/scvi/lib/python3.9/site-packages/scvi/module/_vae.py:460: UserWarning: The value argument must be within the support of the distribution\n",
      "  reconst_loss = -generative_outputs[\"px\"].log_prob(x).sum(-1)\n"
     ]
    },
    {
     "name": "stdout",
     "output_type": "stream",
     "text": [
      "Epoch 24/50:  46%|▍| 23/50 [01:05<01:17,  2.86s/it, v_num=1, train_loss_step=259"
     ]
    },
    {
     "name": "stderr",
     "output_type": "stream",
     "text": [
      "/home/jeongbinpark/miniconda3/envs/scvi/lib/python3.9/site-packages/scvi/module/_vae.py:460: UserWarning: The value argument must be within the support of the distribution\n",
      "  reconst_loss = -generative_outputs[\"px\"].log_prob(x).sum(-1)\n",
      "/home/jeongbinpark/miniconda3/envs/scvi/lib/python3.9/site-packages/scvi/module/_vae.py:460: UserWarning: The value argument must be within the support of the distribution\n",
      "  reconst_loss = -generative_outputs[\"px\"].log_prob(x).sum(-1)\n"
     ]
    },
    {
     "name": "stdout",
     "output_type": "stream",
     "text": [
      "Epoch 25/50:  48%|▍| 24/50 [01:08<01:14,  2.85s/it, v_num=1, train_loss_step=224"
     ]
    },
    {
     "name": "stderr",
     "output_type": "stream",
     "text": [
      "/home/jeongbinpark/miniconda3/envs/scvi/lib/python3.9/site-packages/scvi/module/_vae.py:460: UserWarning: The value argument must be within the support of the distribution\n",
      "  reconst_loss = -generative_outputs[\"px\"].log_prob(x).sum(-1)\n",
      "/home/jeongbinpark/miniconda3/envs/scvi/lib/python3.9/site-packages/scvi/module/_vae.py:460: UserWarning: The value argument must be within the support of the distribution\n",
      "  reconst_loss = -generative_outputs[\"px\"].log_prob(x).sum(-1)\n"
     ]
    },
    {
     "name": "stdout",
     "output_type": "stream",
     "text": [
      "Epoch 26/50:  50%|▌| 25/50 [01:11<01:11,  2.85s/it, v_num=1, train_loss_step=212"
     ]
    },
    {
     "name": "stderr",
     "output_type": "stream",
     "text": [
      "/home/jeongbinpark/miniconda3/envs/scvi/lib/python3.9/site-packages/scvi/module/_vae.py:460: UserWarning: The value argument must be within the support of the distribution\n",
      "  reconst_loss = -generative_outputs[\"px\"].log_prob(x).sum(-1)\n",
      "/home/jeongbinpark/miniconda3/envs/scvi/lib/python3.9/site-packages/scvi/module/_vae.py:460: UserWarning: The value argument must be within the support of the distribution\n",
      "  reconst_loss = -generative_outputs[\"px\"].log_prob(x).sum(-1)\n"
     ]
    },
    {
     "name": "stdout",
     "output_type": "stream",
     "text": [
      "Epoch 27/50:  52%|▌| 26/50 [01:14<01:08,  2.86s/it, v_num=1, train_loss_step=205"
     ]
    },
    {
     "name": "stderr",
     "output_type": "stream",
     "text": [
      "/home/jeongbinpark/miniconda3/envs/scvi/lib/python3.9/site-packages/scvi/module/_vae.py:460: UserWarning: The value argument must be within the support of the distribution\n",
      "  reconst_loss = -generative_outputs[\"px\"].log_prob(x).sum(-1)\n",
      "/home/jeongbinpark/miniconda3/envs/scvi/lib/python3.9/site-packages/scvi/module/_vae.py:460: UserWarning: The value argument must be within the support of the distribution\n",
      "  reconst_loss = -generative_outputs[\"px\"].log_prob(x).sum(-1)\n"
     ]
    },
    {
     "name": "stdout",
     "output_type": "stream",
     "text": [
      "Epoch 28/50:  54%|▌| 27/50 [01:17<01:05,  2.85s/it, v_num=1, train_loss_step=214"
     ]
    },
    {
     "name": "stderr",
     "output_type": "stream",
     "text": [
      "/home/jeongbinpark/miniconda3/envs/scvi/lib/python3.9/site-packages/scvi/module/_vae.py:460: UserWarning: The value argument must be within the support of the distribution\n",
      "  reconst_loss = -generative_outputs[\"px\"].log_prob(x).sum(-1)\n",
      "/home/jeongbinpark/miniconda3/envs/scvi/lib/python3.9/site-packages/scvi/module/_vae.py:460: UserWarning: The value argument must be within the support of the distribution\n",
      "  reconst_loss = -generative_outputs[\"px\"].log_prob(x).sum(-1)\n"
     ]
    },
    {
     "name": "stdout",
     "output_type": "stream",
     "text": [
      "Epoch 29/50:  56%|▌| 28/50 [01:19<01:02,  2.84s/it, v_num=1, train_loss_step=223"
     ]
    },
    {
     "name": "stderr",
     "output_type": "stream",
     "text": [
      "/home/jeongbinpark/miniconda3/envs/scvi/lib/python3.9/site-packages/scvi/module/_vae.py:460: UserWarning: The value argument must be within the support of the distribution\n",
      "  reconst_loss = -generative_outputs[\"px\"].log_prob(x).sum(-1)\n",
      "/home/jeongbinpark/miniconda3/envs/scvi/lib/python3.9/site-packages/scvi/module/_vae.py:460: UserWarning: The value argument must be within the support of the distribution\n",
      "  reconst_loss = -generative_outputs[\"px\"].log_prob(x).sum(-1)\n"
     ]
    },
    {
     "name": "stdout",
     "output_type": "stream",
     "text": [
      "Epoch 30/50:  58%|▌| 29/50 [01:22<00:59,  2.82s/it, v_num=1, train_loss_step=374"
     ]
    },
    {
     "name": "stderr",
     "output_type": "stream",
     "text": [
      "/home/jeongbinpark/miniconda3/envs/scvi/lib/python3.9/site-packages/scvi/module/_vae.py:460: UserWarning: The value argument must be within the support of the distribution\n",
      "  reconst_loss = -generative_outputs[\"px\"].log_prob(x).sum(-1)\n",
      "/home/jeongbinpark/miniconda3/envs/scvi/lib/python3.9/site-packages/scvi/module/_vae.py:460: UserWarning: The value argument must be within the support of the distribution\n",
      "  reconst_loss = -generative_outputs[\"px\"].log_prob(x).sum(-1)\n"
     ]
    },
    {
     "name": "stdout",
     "output_type": "stream",
     "text": [
      "Epoch 31/50:  60%|▌| 30/50 [01:25<00:56,  2.82s/it, v_num=1, train_loss_step=219"
     ]
    },
    {
     "name": "stderr",
     "output_type": "stream",
     "text": [
      "/home/jeongbinpark/miniconda3/envs/scvi/lib/python3.9/site-packages/scvi/module/_vae.py:460: UserWarning: The value argument must be within the support of the distribution\n",
      "  reconst_loss = -generative_outputs[\"px\"].log_prob(x).sum(-1)\n",
      "/home/jeongbinpark/miniconda3/envs/scvi/lib/python3.9/site-packages/scvi/module/_vae.py:460: UserWarning: The value argument must be within the support of the distribution\n",
      "  reconst_loss = -generative_outputs[\"px\"].log_prob(x).sum(-1)\n"
     ]
    },
    {
     "name": "stdout",
     "output_type": "stream",
     "text": [
      "Epoch 32/50:  62%|▌| 31/50 [01:28<00:53,  2.81s/it, v_num=1, train_loss_step=209"
     ]
    },
    {
     "name": "stderr",
     "output_type": "stream",
     "text": [
      "/home/jeongbinpark/miniconda3/envs/scvi/lib/python3.9/site-packages/scvi/module/_vae.py:460: UserWarning: The value argument must be within the support of the distribution\n",
      "  reconst_loss = -generative_outputs[\"px\"].log_prob(x).sum(-1)\n",
      "/home/jeongbinpark/miniconda3/envs/scvi/lib/python3.9/site-packages/scvi/module/_vae.py:460: UserWarning: The value argument must be within the support of the distribution\n",
      "  reconst_loss = -generative_outputs[\"px\"].log_prob(x).sum(-1)\n"
     ]
    },
    {
     "name": "stdout",
     "output_type": "stream",
     "text": [
      "Epoch 33/50:  64%|▋| 32/50 [01:31<00:50,  2.81s/it, v_num=1, train_loss_step=217"
     ]
    },
    {
     "name": "stderr",
     "output_type": "stream",
     "text": [
      "/home/jeongbinpark/miniconda3/envs/scvi/lib/python3.9/site-packages/scvi/module/_vae.py:460: UserWarning: The value argument must be within the support of the distribution\n",
      "  reconst_loss = -generative_outputs[\"px\"].log_prob(x).sum(-1)\n",
      "/home/jeongbinpark/miniconda3/envs/scvi/lib/python3.9/site-packages/scvi/module/_vae.py:460: UserWarning: The value argument must be within the support of the distribution\n",
      "  reconst_loss = -generative_outputs[\"px\"].log_prob(x).sum(-1)\n"
     ]
    },
    {
     "name": "stdout",
     "output_type": "stream",
     "text": [
      "Epoch 34/50:  66%|▋| 33/50 [01:33<00:47,  2.82s/it, v_num=1, train_loss_step=317"
     ]
    },
    {
     "name": "stderr",
     "output_type": "stream",
     "text": [
      "/home/jeongbinpark/miniconda3/envs/scvi/lib/python3.9/site-packages/scvi/module/_vae.py:460: UserWarning: The value argument must be within the support of the distribution\n",
      "  reconst_loss = -generative_outputs[\"px\"].log_prob(x).sum(-1)\n",
      "/home/jeongbinpark/miniconda3/envs/scvi/lib/python3.9/site-packages/scvi/module/_vae.py:460: UserWarning: The value argument must be within the support of the distribution\n",
      "  reconst_loss = -generative_outputs[\"px\"].log_prob(x).sum(-1)\n"
     ]
    },
    {
     "name": "stdout",
     "output_type": "stream",
     "text": [
      "Epoch 35/50:  68%|▋| 34/50 [01:36<00:45,  2.81s/it, v_num=1, train_loss_step=332"
     ]
    },
    {
     "name": "stderr",
     "output_type": "stream",
     "text": [
      "/home/jeongbinpark/miniconda3/envs/scvi/lib/python3.9/site-packages/scvi/module/_vae.py:460: UserWarning: The value argument must be within the support of the distribution\n",
      "  reconst_loss = -generative_outputs[\"px\"].log_prob(x).sum(-1)\n",
      "/home/jeongbinpark/miniconda3/envs/scvi/lib/python3.9/site-packages/scvi/module/_vae.py:460: UserWarning: The value argument must be within the support of the distribution\n",
      "  reconst_loss = -generative_outputs[\"px\"].log_prob(x).sum(-1)\n"
     ]
    },
    {
     "name": "stdout",
     "output_type": "stream",
     "text": [
      "Epoch 36/50:  70%|▋| 35/50 [01:39<00:42,  2.82s/it, v_num=1, train_loss_step=272"
     ]
    },
    {
     "name": "stderr",
     "output_type": "stream",
     "text": [
      "/home/jeongbinpark/miniconda3/envs/scvi/lib/python3.9/site-packages/scvi/module/_vae.py:460: UserWarning: The value argument must be within the support of the distribution\n",
      "  reconst_loss = -generative_outputs[\"px\"].log_prob(x).sum(-1)\n",
      "/home/jeongbinpark/miniconda3/envs/scvi/lib/python3.9/site-packages/scvi/module/_vae.py:460: UserWarning: The value argument must be within the support of the distribution\n",
      "  reconst_loss = -generative_outputs[\"px\"].log_prob(x).sum(-1)\n"
     ]
    },
    {
     "name": "stdout",
     "output_type": "stream",
     "text": [
      "Epoch 37/50:  72%|▋| 36/50 [01:42<00:39,  2.83s/it, v_num=1, train_loss_step=207"
     ]
    },
    {
     "name": "stderr",
     "output_type": "stream",
     "text": [
      "/home/jeongbinpark/miniconda3/envs/scvi/lib/python3.9/site-packages/scvi/module/_vae.py:460: UserWarning: The value argument must be within the support of the distribution\n",
      "  reconst_loss = -generative_outputs[\"px\"].log_prob(x).sum(-1)\n",
      "/home/jeongbinpark/miniconda3/envs/scvi/lib/python3.9/site-packages/scvi/module/_vae.py:460: UserWarning: The value argument must be within the support of the distribution\n",
      "  reconst_loss = -generative_outputs[\"px\"].log_prob(x).sum(-1)\n"
     ]
    },
    {
     "name": "stdout",
     "output_type": "stream",
     "text": [
      "Epoch 38/50:  74%|▋| 37/50 [01:45<00:36,  2.82s/it, v_num=1, train_loss_step=210"
     ]
    },
    {
     "name": "stderr",
     "output_type": "stream",
     "text": [
      "/home/jeongbinpark/miniconda3/envs/scvi/lib/python3.9/site-packages/scvi/module/_vae.py:460: UserWarning: The value argument must be within the support of the distribution\n",
      "  reconst_loss = -generative_outputs[\"px\"].log_prob(x).sum(-1)\n",
      "/home/jeongbinpark/miniconda3/envs/scvi/lib/python3.9/site-packages/scvi/module/_vae.py:460: UserWarning: The value argument must be within the support of the distribution\n",
      "  reconst_loss = -generative_outputs[\"px\"].log_prob(x).sum(-1)\n"
     ]
    },
    {
     "name": "stdout",
     "output_type": "stream",
     "text": [
      "Epoch 39/50:  76%|▊| 38/50 [01:48<00:33,  2.82s/it, v_num=1, train_loss_step=261"
     ]
    },
    {
     "name": "stderr",
     "output_type": "stream",
     "text": [
      "/home/jeongbinpark/miniconda3/envs/scvi/lib/python3.9/site-packages/scvi/module/_vae.py:460: UserWarning: The value argument must be within the support of the distribution\n",
      "  reconst_loss = -generative_outputs[\"px\"].log_prob(x).sum(-1)\n",
      "/home/jeongbinpark/miniconda3/envs/scvi/lib/python3.9/site-packages/scvi/module/_vae.py:460: UserWarning: The value argument must be within the support of the distribution\n",
      "  reconst_loss = -generative_outputs[\"px\"].log_prob(x).sum(-1)\n"
     ]
    },
    {
     "name": "stdout",
     "output_type": "stream",
     "text": [
      "Epoch 40/50:  78%|▊| 39/50 [01:50<00:31,  2.83s/it, v_num=1, train_loss_step=275"
     ]
    },
    {
     "name": "stderr",
     "output_type": "stream",
     "text": [
      "/home/jeongbinpark/miniconda3/envs/scvi/lib/python3.9/site-packages/scvi/module/_vae.py:460: UserWarning: The value argument must be within the support of the distribution\n",
      "  reconst_loss = -generative_outputs[\"px\"].log_prob(x).sum(-1)\n",
      "/home/jeongbinpark/miniconda3/envs/scvi/lib/python3.9/site-packages/scvi/module/_vae.py:460: UserWarning: The value argument must be within the support of the distribution\n",
      "  reconst_loss = -generative_outputs[\"px\"].log_prob(x).sum(-1)\n"
     ]
    },
    {
     "name": "stdout",
     "output_type": "stream",
     "text": [
      "Epoch 41/50:  80%|▊| 40/50 [01:53<00:28,  2.83s/it, v_num=1, train_loss_step=230"
     ]
    },
    {
     "name": "stderr",
     "output_type": "stream",
     "text": [
      "/home/jeongbinpark/miniconda3/envs/scvi/lib/python3.9/site-packages/scvi/module/_vae.py:460: UserWarning: The value argument must be within the support of the distribution\n",
      "  reconst_loss = -generative_outputs[\"px\"].log_prob(x).sum(-1)\n",
      "/home/jeongbinpark/miniconda3/envs/scvi/lib/python3.9/site-packages/scvi/module/_vae.py:460: UserWarning: The value argument must be within the support of the distribution\n",
      "  reconst_loss = -generative_outputs[\"px\"].log_prob(x).sum(-1)\n"
     ]
    },
    {
     "name": "stdout",
     "output_type": "stream",
     "text": [
      "Epoch 42/50:  82%|▊| 41/50 [01:56<00:25,  2.84s/it, v_num=1, train_loss_step=229"
     ]
    },
    {
     "name": "stderr",
     "output_type": "stream",
     "text": [
      "/home/jeongbinpark/miniconda3/envs/scvi/lib/python3.9/site-packages/scvi/module/_vae.py:460: UserWarning: The value argument must be within the support of the distribution\n",
      "  reconst_loss = -generative_outputs[\"px\"].log_prob(x).sum(-1)\n",
      "/home/jeongbinpark/miniconda3/envs/scvi/lib/python3.9/site-packages/scvi/module/_vae.py:460: UserWarning: The value argument must be within the support of the distribution\n",
      "  reconst_loss = -generative_outputs[\"px\"].log_prob(x).sum(-1)\n"
     ]
    },
    {
     "name": "stdout",
     "output_type": "stream",
     "text": [
      "Epoch 43/50:  84%|▊| 42/50 [01:59<00:22,  2.84s/it, v_num=1, train_loss_step=278"
     ]
    },
    {
     "name": "stderr",
     "output_type": "stream",
     "text": [
      "/home/jeongbinpark/miniconda3/envs/scvi/lib/python3.9/site-packages/scvi/module/_vae.py:460: UserWarning: The value argument must be within the support of the distribution\n",
      "  reconst_loss = -generative_outputs[\"px\"].log_prob(x).sum(-1)\n",
      "/home/jeongbinpark/miniconda3/envs/scvi/lib/python3.9/site-packages/scvi/module/_vae.py:460: UserWarning: The value argument must be within the support of the distribution\n",
      "  reconst_loss = -generative_outputs[\"px\"].log_prob(x).sum(-1)\n"
     ]
    },
    {
     "name": "stdout",
     "output_type": "stream",
     "text": [
      "Epoch 44/50:  86%|▊| 43/50 [02:02<00:19,  2.83s/it, v_num=1, train_loss_step=278"
     ]
    },
    {
     "name": "stderr",
     "output_type": "stream",
     "text": [
      "/home/jeongbinpark/miniconda3/envs/scvi/lib/python3.9/site-packages/scvi/module/_vae.py:460: UserWarning: The value argument must be within the support of the distribution\n",
      "  reconst_loss = -generative_outputs[\"px\"].log_prob(x).sum(-1)\n",
      "/home/jeongbinpark/miniconda3/envs/scvi/lib/python3.9/site-packages/scvi/module/_vae.py:460: UserWarning: The value argument must be within the support of the distribution\n",
      "  reconst_loss = -generative_outputs[\"px\"].log_prob(x).sum(-1)\n"
     ]
    },
    {
     "name": "stdout",
     "output_type": "stream",
     "text": [
      "Epoch 45/50:  88%|▉| 44/50 [02:05<00:16,  2.83s/it, v_num=1, train_loss_step=377"
     ]
    },
    {
     "name": "stderr",
     "output_type": "stream",
     "text": [
      "/home/jeongbinpark/miniconda3/envs/scvi/lib/python3.9/site-packages/scvi/module/_vae.py:460: UserWarning: The value argument must be within the support of the distribution\n",
      "  reconst_loss = -generative_outputs[\"px\"].log_prob(x).sum(-1)\n",
      "/home/jeongbinpark/miniconda3/envs/scvi/lib/python3.9/site-packages/scvi/module/_vae.py:460: UserWarning: The value argument must be within the support of the distribution\n",
      "  reconst_loss = -generative_outputs[\"px\"].log_prob(x).sum(-1)\n"
     ]
    },
    {
     "name": "stdout",
     "output_type": "stream",
     "text": [
      "Epoch 46/50:  90%|▉| 45/50 [02:07<00:14,  2.84s/it, v_num=1, train_loss_step=333"
     ]
    },
    {
     "name": "stderr",
     "output_type": "stream",
     "text": [
      "/home/jeongbinpark/miniconda3/envs/scvi/lib/python3.9/site-packages/scvi/module/_vae.py:460: UserWarning: The value argument must be within the support of the distribution\n",
      "  reconst_loss = -generative_outputs[\"px\"].log_prob(x).sum(-1)\n",
      "/home/jeongbinpark/miniconda3/envs/scvi/lib/python3.9/site-packages/scvi/module/_vae.py:460: UserWarning: The value argument must be within the support of the distribution\n",
      "  reconst_loss = -generative_outputs[\"px\"].log_prob(x).sum(-1)\n"
     ]
    },
    {
     "name": "stdout",
     "output_type": "stream",
     "text": [
      "Epoch 47/50:  92%|▉| 46/50 [02:10<00:11,  2.82s/it, v_num=1, train_loss_step=209"
     ]
    },
    {
     "name": "stderr",
     "output_type": "stream",
     "text": [
      "/home/jeongbinpark/miniconda3/envs/scvi/lib/python3.9/site-packages/scvi/module/_vae.py:460: UserWarning: The value argument must be within the support of the distribution\n",
      "  reconst_loss = -generative_outputs[\"px\"].log_prob(x).sum(-1)\n",
      "/home/jeongbinpark/miniconda3/envs/scvi/lib/python3.9/site-packages/scvi/module/_vae.py:460: UserWarning: The value argument must be within the support of the distribution\n",
      "  reconst_loss = -generative_outputs[\"px\"].log_prob(x).sum(-1)\n"
     ]
    },
    {
     "name": "stdout",
     "output_type": "stream",
     "text": [
      "Epoch 48/50:  94%|▉| 47/50 [02:13<00:08,  2.82s/it, v_num=1, train_loss_step=278"
     ]
    },
    {
     "name": "stderr",
     "output_type": "stream",
     "text": [
      "/home/jeongbinpark/miniconda3/envs/scvi/lib/python3.9/site-packages/scvi/module/_vae.py:460: UserWarning: The value argument must be within the support of the distribution\n",
      "  reconst_loss = -generative_outputs[\"px\"].log_prob(x).sum(-1)\n",
      "/home/jeongbinpark/miniconda3/envs/scvi/lib/python3.9/site-packages/scvi/module/_vae.py:460: UserWarning: The value argument must be within the support of the distribution\n",
      "  reconst_loss = -generative_outputs[\"px\"].log_prob(x).sum(-1)\n"
     ]
    },
    {
     "name": "stdout",
     "output_type": "stream",
     "text": [
      "Epoch 49/50:  96%|▉| 48/50 [02:16<00:05,  2.82s/it, v_num=1, train_loss_step=271"
     ]
    },
    {
     "name": "stderr",
     "output_type": "stream",
     "text": [
      "/home/jeongbinpark/miniconda3/envs/scvi/lib/python3.9/site-packages/scvi/module/_vae.py:460: UserWarning: The value argument must be within the support of the distribution\n",
      "  reconst_loss = -generative_outputs[\"px\"].log_prob(x).sum(-1)\n",
      "/home/jeongbinpark/miniconda3/envs/scvi/lib/python3.9/site-packages/scvi/module/_vae.py:460: UserWarning: The value argument must be within the support of the distribution\n",
      "  reconst_loss = -generative_outputs[\"px\"].log_prob(x).sum(-1)\n"
     ]
    },
    {
     "name": "stdout",
     "output_type": "stream",
     "text": [
      "Epoch 50/50:  98%|▉| 49/50 [02:19<00:02,  2.83s/it, v_num=1, train_loss_step=223"
     ]
    },
    {
     "name": "stderr",
     "output_type": "stream",
     "text": [
      "/home/jeongbinpark/miniconda3/envs/scvi/lib/python3.9/site-packages/scvi/module/_vae.py:460: UserWarning: The value argument must be within the support of the distribution\n",
      "  reconst_loss = -generative_outputs[\"px\"].log_prob(x).sum(-1)\n",
      "/home/jeongbinpark/miniconda3/envs/scvi/lib/python3.9/site-packages/scvi/module/_vae.py:460: UserWarning: The value argument must be within the support of the distribution\n",
      "  reconst_loss = -generative_outputs[\"px\"].log_prob(x).sum(-1)\n"
     ]
    },
    {
     "name": "stdout",
     "output_type": "stream",
     "text": [
      "Epoch 50/50: 100%|█| 50/50 [02:22<00:00,  2.83s/it, v_num=1, train_loss_step=217"
     ]
    },
    {
     "name": "stderr",
     "output_type": "stream",
     "text": [
      "`Trainer.fit` stopped: `max_epochs=50` reached.\n"
     ]
    },
    {
     "name": "stdout",
     "output_type": "stream",
     "text": [
      "Epoch 50/50: 100%|█| 50/50 [02:22<00:00,  2.84s/it, v_num=1, train_loss_step=217\n",
      "\u001b[34mINFO    \u001b[0m Input AnnData not setup with scvi-tools. attempting to transfer AnnData setup                             \n",
      "\u001b[34mINFO    \u001b[0m Input AnnData not setup with scvi-tools. attempting to transfer AnnData setup                             \n",
      "✅ Done — `predicted_cell_type` column이 test AnnData에 추가되었습니다.\n"
     ]
    }
   ],
   "source": [
    "# ------------------------------------------------------------\n",
    "# 0. 라이브러리\n",
    "# ------------------------------------------------------------\n",
    "import scanpy as sc\n",
    "import scvi\n",
    "import numpy as np\n",
    "import pandas as pd\n",
    "from sklearn.neighbors import NearestNeighbors\n",
    "import torch\n",
    "from torch import nn\n",
    "\n",
    "# ------------------------------------------------------------\n",
    "# 1. 데이터 로드\n",
    "# ------------------------------------------------------------\n",
    "adata = sc.read_h5ad(\"Lung_cancer.h5ad\")   # 당신의 파일 경로\n",
    "\n",
    "# ------------------------------------------------------------\n",
    "# 2. 기본 전처리\n",
    "# ------------------------------------------------------------\n",
    "sc.pp.filter_genes(adata, min_cells=3)            # 너무 희귀한 유전자 제거\n",
    "adata.layers[\"counts\"] = adata.X.copy()           # scvi가 raw‑counts 레이어 사용\n",
    "sc.pp.normalize_total(adata)\n",
    "sc.pp.log1p(adata)\n",
    "sc.pp.highly_variable_genes(adata, n_top_genes=3000, flavor=\"seurat_v3\")\n",
    "adata = adata[:, adata.var.highly_variable].copy()\n",
    "\n",
    "# ------------------------------------------------------------\n",
    "# 3. Train / Test Split\n",
    "# ------------------------------------------------------------\n",
    "rng = np.random.RandomState(42)\n",
    "train_mask = rng.rand(adata.n_obs) < 0.8\n",
    "adata_train = adata[train_mask].copy()\n",
    "adata_test  = adata[~train_mask].copy()\n",
    "\n",
    "# ------------------------------------------------------------\n",
    "# 4. Dirichlet‑기반 pseudobulk 생성\n",
    "# ------------------------------------------------------------\n",
    "def dirichlet_pseudobulks(adata_in, n_bulk=500, cells_per_bulk=100, alpha=1.0):\n",
    "    \"\"\"\n",
    "    adata_in : AnnData (train subset)  \n",
    "    반환       : pseudobulk 포함 concat AnnData\n",
    "    \"\"\"\n",
    "    cell_types = adata_in.obs[\"cell_type\"].unique()\n",
    "    obs_list   = []\n",
    "    X_list     = []\n",
    "\n",
    "    # 미리 index 배열 캐싱\n",
    "    ct_indices = {ct: np.where(adata_in.obs[\"cell_type\"].values == ct)[0] \n",
    "                  for ct in cell_types}\n",
    "    α = np.full(len(cell_types), alpha)\n",
    "\n",
    "    for i in range(n_bulk):\n",
    "        props = np.random.dirichlet(α)\n",
    "        picks = []\n",
    "        for ct, p in zip(cell_types, props):\n",
    "            n_ct = max(1, int(round(p * cells_per_bulk)))\n",
    "            choice = rng.choice(ct_indices[ct], size=n_ct, replace=len(ct_indices[ct]) < n_ct)\n",
    "            picks.extend(choice)\n",
    "\n",
    "        Xpb = adata_in[picks].layers[\"counts\"].sum(axis=0).A1   # 희소 → 1D ndarray\n",
    "        X_list.append(Xpb)\n",
    "        obs_list.append({\"pseudo\": True, \"cell_type\": \"PB\"})\n",
    "\n",
    "    adata_pb = sc.AnnData(np.vstack(X_list), \n",
    "                          obs=pd.DataFrame(obs_list, \n",
    "                                           index=[f\"PB{i}\" for i in range(n_bulk)]),\n",
    "                          var=adata_in.var.copy())\n",
    "    adata_pb.layers[\"counts\"] = adata_pb.X.copy()\n",
    "\n",
    "    # concat(train + pb)\n",
    "    adata_cat = sc.concat([adata_in, adata_pb], join=\"inner\", \n",
    "                          label=\"batch_source\", keys=[\"cell\", \"pseudo\"])\n",
    "    adata_cat.layers[\"counts\"] = adata_cat.X.copy()\n",
    "    return adata_cat\n",
    "\n",
    "adata_train_pb = dirichlet_pseudobulks(adata_train, n_bulk=300, cells_per_bulk=80)\n",
    "\n",
    "# ------------------------------------------------------------\n",
    "# 5. MixupVI 정의 (scvi‑tools subclass)\n",
    "# ------------------------------------------------------------\n",
    "class MixupVI(scvi.model.SCVI):\n",
    "    def __init__(self, adata, mixup_weight=1.0, cells_per_bulk=80, n_mix=64, **kwargs):\n",
    "        super().__init__(adata, **kwargs)\n",
    "        self.mixup_weight   = mixup_weight\n",
    "        self.cells_per_bulk = cells_per_bulk\n",
    "        self.n_mix          = n_mix\n",
    "\n",
    "    # latent 선형성 강제 L2 penalty\n",
    "    def _mixup_loss(self, x_batch, z_batch):\n",
    "        B = x_batch.shape[0]\n",
    "        device = x_batch.device\n",
    "        mix_losses = []\n",
    "        for _ in range(self.n_mix):\n",
    "            idx = torch.randperm(B, device=device)[: self.cells_per_bulk]\n",
    "            z_mean = z_batch[idx].mean(0, keepdim=True)\n",
    "            x_sum  = x_batch[idx].sum(0, keepdim=True)\n",
    "            z_pb   = self.module.encoder(x_sum)[0]           # q(z|x) mean\n",
    "            mix_losses.append(((z_pb - z_mean) ** 2).sum(1))\n",
    "        return torch.stack(mix_losses).mean()\n",
    "\n",
    "    # loss override:  -ELBO + λ * mixup\n",
    "    def loss(self, *_args, **kwargs):\n",
    "        base_out = super().loss(*_args, **kwargs)            # 기본(-ELBO) 리턴\n",
    "        x_b = kwargs[\"batch\"]\n",
    "        z_b = base_out[\"z\"]                                  # latent sample\n",
    "        mix_loss = self._mixup_loss(x_b, z_b)\n",
    "        base_out[\"loss\"] = base_out[\"loss\"] + self.mixup_weight * mix_loss\n",
    "        return base_out\n",
    "\n",
    "# ----------------- MixupVI 세팅\n",
    "MixupVI.setup_anndata(adata_train_pb, layer=\"counts\")\n",
    "\n",
    "# ----------------- 훈련\n",
    "model = MixupVI(adata_train_pb,\n",
    "                n_hidden=256, n_latent=20,\n",
    "                mixup_weight=1.0, cells_per_bulk=80, n_mix=32)\n",
    "model.train(max_epochs=50, plan_kwargs={\"lr\":1e-3})\n",
    "\n",
    "# ------------------------------------------------------------\n",
    "# 6. 임베딩 & k‑NN 라벨 전파\n",
    "# ------------------------------------------------------------\n",
    "train_latent = model.get_latent_representation(adata_train)\n",
    "test_latent  = model.get_latent_representation(adata_test)\n",
    "\n",
    "knn = NearestNeighbors(n_neighbors=10).fit(train_latent)\n",
    "dists, idxs = knn.kneighbors(test_latent)\n",
    "\n",
    "train_labels = adata_train.obs[\"cell_type\"].values\n",
    "majority = []\n",
    "topk_tbl = []\n",
    "\n",
    "for cell_i, neigh in enumerate(idxs):\n",
    "    neigh_labels = train_labels[neigh]\n",
    "    topk_tbl.append(neigh_labels)\n",
    "    uniq, counts = np.unique(neigh_labels, return_counts=True)\n",
    "    majority.append(uniq[np.argmax(counts)])\n",
    "\n",
    "adata_test.obs[\"predicted_cell_type\"] = majority\n",
    "'''\n",
    "pd.DataFrame(topk_tbl,\n",
    "             index=adata_test.obs_names,\n",
    "             columns=[f\"knn_{k}\" for k in range(1, 11)]\n",
    "            ).to_csv(\"test_knn_neighbor_labels.csv\")\n",
    "'''\n",
    "\n",
    "print(\"✅ Done — `predicted_cell_type` column이 test AnnData에 추가되었습니다.\")\n"
   ]
  },
  {
   "cell_type": "code",
   "execution_count": 2,
   "id": "9b60b8ec-f820-45c7-8f7e-a6ce20ca4e1c",
   "metadata": {
    "scrolled": true
   },
   "outputs": [
    {
     "name": "stdout",
     "output_type": "stream",
     "text": [
      "predicted_cell_type                        CD4-positive, alpha-beta memory T cell  \\\n",
      "cell_type                                                                           \n",
      "epithelial cell of lung                                                         0   \n",
      "granulocyte                                                                     0   \n",
      "mast cell                                                                       0   \n",
      "smooth muscle cell                                                              1   \n",
      "macrophage                                                                      0   \n",
      "natural killer cell                                                             2   \n",
      "pericyte                                                                        0   \n",
      "plasmacytoid dendritic cell                                                     1   \n",
      "plasma cell                                                                     3   \n",
      "classical monocyte                                                              1   \n",
      "CD4-positive, alpha-beta memory T cell                                        380   \n",
      "natural T-regulatory cell                                                      45   \n",
      "activated CD8-positive, alpha-beta T cell                                       0   \n",
      "cytotoxic T cell                                                               43   \n",
      "conventional dendritic cell                                                     0   \n",
      "dendritic cell, human                                                           0   \n",
      "malignant cell                                                                  1   \n",
      "capillary endothelial cell                                                      1   \n",
      "fibroblast of lung                                                              2   \n",
      "\n",
      "predicted_cell_type                        activated CD8-positive, alpha-beta T cell  \\\n",
      "cell_type                                                                              \n",
      "epithelial cell of lung                                                            0   \n",
      "granulocyte                                                                        0   \n",
      "mast cell                                                                          0   \n",
      "smooth muscle cell                                                                 0   \n",
      "macrophage                                                                         1   \n",
      "natural killer cell                                                               10   \n",
      "pericyte                                                                           0   \n",
      "plasmacytoid dendritic cell                                                        0   \n",
      "plasma cell                                                                        0   \n",
      "classical monocyte                                                                 0   \n",
      "CD4-positive, alpha-beta memory T cell                                             0   \n",
      "natural T-regulatory cell                                                          5   \n",
      "activated CD8-positive, alpha-beta T cell                                        208   \n",
      "cytotoxic T cell                                                                  11   \n",
      "conventional dendritic cell                                                        0   \n",
      "dendritic cell, human                                                              0   \n",
      "malignant cell                                                                     0   \n",
      "capillary endothelial cell                                                         0   \n",
      "fibroblast of lung                                                                 0   \n",
      "\n",
      "predicted_cell_type                        capillary endothelial cell  \\\n",
      "cell_type                                                               \n",
      "epithelial cell of lung                                             0   \n",
      "granulocyte                                                         0   \n",
      "mast cell                                                           0   \n",
      "smooth muscle cell                                                  1   \n",
      "macrophage                                                          0   \n",
      "natural killer cell                                                 0   \n",
      "pericyte                                                            5   \n",
      "plasmacytoid dendritic cell                                         0   \n",
      "plasma cell                                                         3   \n",
      "classical monocyte                                                  0   \n",
      "CD4-positive, alpha-beta memory T cell                              0   \n",
      "natural T-regulatory cell                                           0   \n",
      "activated CD8-positive, alpha-beta T cell                           0   \n",
      "cytotoxic T cell                                                    0   \n",
      "conventional dendritic cell                                         0   \n",
      "dendritic cell, human                                               0   \n",
      "malignant cell                                                      0   \n",
      "capillary endothelial cell                                        119   \n",
      "fibroblast of lung                                                  0   \n",
      "\n",
      "predicted_cell_type                        classical monocyte  \\\n",
      "cell_type                                                       \n",
      "epithelial cell of lung                                     0   \n",
      "granulocyte                                                 0   \n",
      "mast cell                                                   1   \n",
      "smooth muscle cell                                          0   \n",
      "macrophage                                                 49   \n",
      "natural killer cell                                         0   \n",
      "pericyte                                                    0   \n",
      "plasmacytoid dendritic cell                                17   \n",
      "plasma cell                                                 4   \n",
      "classical monocyte                                        199   \n",
      "CD4-positive, alpha-beta memory T cell                      0   \n",
      "natural T-regulatory cell                                   2   \n",
      "activated CD8-positive, alpha-beta T cell                   0   \n",
      "cytotoxic T cell                                            0   \n",
      "conventional dendritic cell                                 0   \n",
      "dendritic cell, human                                       0   \n",
      "malignant cell                                              2   \n",
      "capillary endothelial cell                                  0   \n",
      "fibroblast of lung                                          0   \n",
      "\n",
      "predicted_cell_type                        conventional dendritic cell  \\\n",
      "cell_type                                                                \n",
      "epithelial cell of lung                                              0   \n",
      "granulocyte                                                          0   \n",
      "mast cell                                                            0   \n",
      "smooth muscle cell                                                   0   \n",
      "macrophage                                                           0   \n",
      "natural killer cell                                                  0   \n",
      "pericyte                                                             0   \n",
      "plasmacytoid dendritic cell                                          4   \n",
      "plasma cell                                                          0   \n",
      "classical monocyte                                                   0   \n",
      "CD4-positive, alpha-beta memory T cell                               0   \n",
      "natural T-regulatory cell                                            0   \n",
      "activated CD8-positive, alpha-beta T cell                            0   \n",
      "cytotoxic T cell                                                     0   \n",
      "conventional dendritic cell                                         29   \n",
      "dendritic cell, human                                                3   \n",
      "malignant cell                                                       0   \n",
      "capillary endothelial cell                                           0   \n",
      "fibroblast of lung                                                   0   \n",
      "\n",
      "predicted_cell_type                        cytotoxic T cell  \\\n",
      "cell_type                                                     \n",
      "epithelial cell of lung                                   0   \n",
      "granulocyte                                               2   \n",
      "mast cell                                                 0   \n",
      "smooth muscle cell                                        0   \n",
      "macrophage                                                6   \n",
      "natural killer cell                                      29   \n",
      "pericyte                                                  0   \n",
      "plasmacytoid dendritic cell                               0   \n",
      "plasma cell                                               8   \n",
      "classical monocyte                                        0   \n",
      "CD4-positive, alpha-beta memory T cell                   21   \n",
      "natural T-regulatory cell                                10   \n",
      "activated CD8-positive, alpha-beta T cell                26   \n",
      "cytotoxic T cell                                        616   \n",
      "conventional dendritic cell                               0   \n",
      "dendritic cell, human                                     0   \n",
      "malignant cell                                            0   \n",
      "capillary endothelial cell                                2   \n",
      "fibroblast of lung                                        1   \n",
      "\n",
      "predicted_cell_type                        dendritic cell, human  \\\n",
      "cell_type                                                          \n",
      "epithelial cell of lung                                        0   \n",
      "granulocyte                                                    0   \n",
      "mast cell                                                      0   \n",
      "smooth muscle cell                                             0   \n",
      "macrophage                                                     2   \n",
      "natural killer cell                                            0   \n",
      "pericyte                                                       0   \n",
      "plasmacytoid dendritic cell                                    0   \n",
      "plasma cell                                                    1   \n",
      "classical monocyte                                             1   \n",
      "CD4-positive, alpha-beta memory T cell                         0   \n",
      "natural T-regulatory cell                                      0   \n",
      "activated CD8-positive, alpha-beta T cell                      0   \n",
      "cytotoxic T cell                                               0   \n",
      "conventional dendritic cell                                    1   \n",
      "dendritic cell, human                                         62   \n",
      "malignant cell                                                 0   \n",
      "capillary endothelial cell                                     0   \n",
      "fibroblast of lung                                             0   \n",
      "\n",
      "predicted_cell_type                        epithelial cell of lung  \\\n",
      "cell_type                                                            \n",
      "epithelial cell of lung                                        133   \n",
      "granulocyte                                                      0   \n",
      "mast cell                                                        0   \n",
      "smooth muscle cell                                               1   \n",
      "macrophage                                                       0   \n",
      "natural killer cell                                              1   \n",
      "pericyte                                                         1   \n",
      "plasmacytoid dendritic cell                                      0   \n",
      "plasma cell                                                      0   \n",
      "classical monocyte                                               0   \n",
      "CD4-positive, alpha-beta memory T cell                           0   \n",
      "natural T-regulatory cell                                        0   \n",
      "activated CD8-positive, alpha-beta T cell                        0   \n",
      "cytotoxic T cell                                                 0   \n",
      "conventional dendritic cell                                      0   \n",
      "dendritic cell, human                                            0   \n",
      "malignant cell                                                   0   \n",
      "capillary endothelial cell                                       0   \n",
      "fibroblast of lung                                               0   \n",
      "\n",
      "predicted_cell_type                        fibroblast of lung  granulocyte  \\\n",
      "cell_type                                                                    \n",
      "epithelial cell of lung                                     0            0   \n",
      "granulocyte                                                 0           23   \n",
      "mast cell                                                   0            0   \n",
      "smooth muscle cell                                         38            0   \n",
      "macrophage                                                  8            0   \n",
      "natural killer cell                                         0            0   \n",
      "pericyte                                                    4            0   \n",
      "plasmacytoid dendritic cell                                 0            0   \n",
      "plasma cell                                                16            1   \n",
      "classical monocyte                                          0            0   \n",
      "CD4-positive, alpha-beta memory T cell                      1            0   \n",
      "natural T-regulatory cell                                   6            0   \n",
      "activated CD8-positive, alpha-beta T cell                   0            0   \n",
      "cytotoxic T cell                                            3            0   \n",
      "conventional dendritic cell                                 0            0   \n",
      "dendritic cell, human                                       0            0   \n",
      "malignant cell                                              1            1   \n",
      "capillary endothelial cell                                  1            0   \n",
      "fibroblast of lung                                        426            0   \n",
      "\n",
      "predicted_cell_type                        macrophage  malignant cell  \\\n",
      "cell_type                                                               \n",
      "epithelial cell of lung                             0               8   \n",
      "granulocyte                                         1               0   \n",
      "mast cell                                           2               2   \n",
      "smooth muscle cell                                  4               3   \n",
      "macrophage                                        830               2   \n",
      "natural killer cell                                 0               0   \n",
      "pericyte                                            1               2   \n",
      "plasmacytoid dendritic cell                        29               0   \n",
      "plasma cell                                        16               3   \n",
      "classical monocyte                                 50               0   \n",
      "CD4-positive, alpha-beta memory T cell              0               0   \n",
      "natural T-regulatory cell                           1               1   \n",
      "activated CD8-positive, alpha-beta T cell           1               2   \n",
      "cytotoxic T cell                                    1               0   \n",
      "conventional dendritic cell                         1               0   \n",
      "dendritic cell, human                               0               0   \n",
      "malignant cell                                     11             553   \n",
      "capillary endothelial cell                          1               2   \n",
      "fibroblast of lung                                  6               1   \n",
      "\n",
      "predicted_cell_type                        mast cell  \\\n",
      "cell_type                                              \n",
      "epithelial cell of lung                            0   \n",
      "granulocyte                                        0   \n",
      "mast cell                                         65   \n",
      "smooth muscle cell                                 0   \n",
      "macrophage                                         0   \n",
      "natural killer cell                                0   \n",
      "pericyte                                           0   \n",
      "plasmacytoid dendritic cell                        0   \n",
      "plasma cell                                        0   \n",
      "classical monocyte                                 0   \n",
      "CD4-positive, alpha-beta memory T cell             0   \n",
      "natural T-regulatory cell                          0   \n",
      "activated CD8-positive, alpha-beta T cell          0   \n",
      "cytotoxic T cell                                   0   \n",
      "conventional dendritic cell                        0   \n",
      "dendritic cell, human                              0   \n",
      "malignant cell                                     0   \n",
      "capillary endothelial cell                         0   \n",
      "fibroblast of lung                                 0   \n",
      "\n",
      "predicted_cell_type                        natural T-regulatory cell  \\\n",
      "cell_type                                                              \n",
      "epithelial cell of lung                                            0   \n",
      "granulocyte                                                        0   \n",
      "mast cell                                                          1   \n",
      "smooth muscle cell                                                 0   \n",
      "macrophage                                                         6   \n",
      "natural killer cell                                                8   \n",
      "pericyte                                                           0   \n",
      "plasmacytoid dendritic cell                                        0   \n",
      "plasma cell                                                       15   \n",
      "classical monocyte                                                 0   \n",
      "CD4-positive, alpha-beta memory T cell                            26   \n",
      "natural T-regulatory cell                                        631   \n",
      "activated CD8-positive, alpha-beta T cell                          0   \n",
      "cytotoxic T cell                                                  15   \n",
      "conventional dendritic cell                                        0   \n",
      "dendritic cell, human                                              0   \n",
      "malignant cell                                                     2   \n",
      "capillary endothelial cell                                         1   \n",
      "fibroblast of lung                                                 1   \n",
      "\n",
      "predicted_cell_type                        natural killer cell  pericyte  \\\n",
      "cell_type                                                                  \n",
      "epithelial cell of lung                                      0         0   \n",
      "granulocyte                                                  0         0   \n",
      "mast cell                                                    0         0   \n",
      "smooth muscle cell                                           1         0   \n",
      "macrophage                                                   0         0   \n",
      "natural killer cell                                        133         0   \n",
      "pericyte                                                     0        33   \n",
      "plasmacytoid dendritic cell                                  1         0   \n",
      "plasma cell                                                  2         0   \n",
      "classical monocyte                                           0         0   \n",
      "CD4-positive, alpha-beta memory T cell                       0         0   \n",
      "natural T-regulatory cell                                    0         0   \n",
      "activated CD8-positive, alpha-beta T cell                    4         0   \n",
      "cytotoxic T cell                                             7         0   \n",
      "conventional dendritic cell                                  0         0   \n",
      "dendritic cell, human                                        0         0   \n",
      "malignant cell                                               0         0   \n",
      "capillary endothelial cell                                   0         1   \n",
      "fibroblast of lung                                           0         2   \n",
      "\n",
      "predicted_cell_type                        plasma cell  \\\n",
      "cell_type                                                \n",
      "epithelial cell of lung                              3   \n",
      "granulocyte                                          2   \n",
      "mast cell                                            4   \n",
      "smooth muscle cell                                   1   \n",
      "macrophage                                           1   \n",
      "natural killer cell                                  3   \n",
      "pericyte                                             0   \n",
      "plasmacytoid dendritic cell                          2   \n",
      "plasma cell                                       1417   \n",
      "classical monocyte                                   1   \n",
      "CD4-positive, alpha-beta memory T cell               2   \n",
      "natural T-regulatory cell                            3   \n",
      "activated CD8-positive, alpha-beta T cell            0   \n",
      "cytotoxic T cell                                     3   \n",
      "conventional dendritic cell                          1   \n",
      "dendritic cell, human                                2   \n",
      "malignant cell                                       1   \n",
      "capillary endothelial cell                           1   \n",
      "fibroblast of lung                                   7   \n",
      "\n",
      "predicted_cell_type                        plasmacytoid dendritic cell  \\\n",
      "cell_type                                                                \n",
      "epithelial cell of lung                                              0   \n",
      "granulocyte                                                          1   \n",
      "mast cell                                                            0   \n",
      "smooth muscle cell                                                   0   \n",
      "macrophage                                                          27   \n",
      "natural killer cell                                                  1   \n",
      "pericyte                                                             0   \n",
      "plasmacytoid dendritic cell                                        250   \n",
      "plasma cell                                                          0   \n",
      "classical monocyte                                                  13   \n",
      "CD4-positive, alpha-beta memory T cell                               1   \n",
      "natural T-regulatory cell                                            0   \n",
      "activated CD8-positive, alpha-beta T cell                            1   \n",
      "cytotoxic T cell                                                     1   \n",
      "conventional dendritic cell                                          9   \n",
      "dendritic cell, human                                                0   \n",
      "malignant cell                                                       0   \n",
      "capillary endothelial cell                                           0   \n",
      "fibroblast of lung                                                   3   \n",
      "\n",
      "predicted_cell_type                        smooth muscle cell  \n",
      "cell_type                                                      \n",
      "epithelial cell of lung                                     0  \n",
      "granulocyte                                                 0  \n",
      "mast cell                                                   0  \n",
      "smooth muscle cell                                        247  \n",
      "macrophage                                                  0  \n",
      "natural killer cell                                         0  \n",
      "pericyte                                                    5  \n",
      "plasmacytoid dendritic cell                                 2  \n",
      "plasma cell                                                 2  \n",
      "classical monocyte                                          0  \n",
      "CD4-positive, alpha-beta memory T cell                      0  \n",
      "natural T-regulatory cell                                   0  \n",
      "activated CD8-positive, alpha-beta T cell                   1  \n",
      "cytotoxic T cell                                            0  \n",
      "conventional dendritic cell                                 0  \n",
      "dendritic cell, human                                       0  \n",
      "malignant cell                                              0  \n",
      "capillary endothelial cell                                  2  \n",
      "fibroblast of lung                                         27  \n"
     ]
    },
    {
     "data": {
      "image/png": "[encoded data removed]",
      "text/plain": [
       "<Figure size 1200x800 with 2 Axes>"
      ]
     },
     "metadata": {},
     "output_type": "display_data"
    }
   ],
   "source": [
    "import pandas as pd\n",
    "import seaborn as sns\n",
    "import matplotlib.pyplot as plt\n",
    "\n",
    "# 교차표 생성\n",
    "ct_table = pd.crosstab(\n",
    "    adata_test.obs[\"cell_type\"],               # 실제 정답 (행)\n",
    "    adata_test.obs[\"predicted_cell_type\"]      # 예측값 (열)\n",
    ")\n",
    "\n",
    "# 표 출력\n",
    "print(ct_table)\n",
    "\n",
    "# 히트맵으로 시각화 (선택사항)\n",
    "plt.figure(figsize=(12, 8))\n",
    "sns.heatmap(ct_table, annot=True, fmt=\"d\", cmap=\"Blues\")\n",
    "plt.xlabel(\"Predicted Cell Type\")\n",
    "plt.ylabel(\"True Cell Type\")\n",
    "plt.title(\"Contingency Table: True vs Predicted\")\n",
    "plt.tight_layout()\n",
    "plt.show()\n"
   ]
  }
 ],
 "metadata": {
  "kernelspec": {
   "display_name": "Python 3 (ipykernel)",
   "language": "python",
   "name": "python3"
  },
  "language_info": {
   "codemirror_mode": {
    "name": "ipython",
    "version": 3
   },
   "file_extension": ".py",
   "mimetype": "text/x-python",
   "name": "python",
   "nbconvert_exporter": "python",
   "pygments_lexer": "ipython3",
   "version": "3.8.18"
  }
 },
 "nbformat": 4,
 "nbformat_minor": 5
}
